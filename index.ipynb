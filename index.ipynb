{
 "cells": [
  {
   "cell_type": "markdown",
   "metadata": {},
   "source": [
    "# Module 1 Code Challenge"
   ]
  },
  {
   "cell_type": "markdown",
   "metadata": {},
   "source": [
    "This code challenge is designed to test your understanding of the Module 1 material. It covers:\n",
    "\n",
    "- Pandas\n",
    "- Data Visualization\n",
    "- Exploring Statistical Data\n",
    "- Python Data Structures\n",
    "\n",
    "_Read the instructions carefully._ You will be asked both to write code and to respond to a few short answer questions.\n",
    "\n",
    "### Note on the short answer questions\n",
    "\n",
    "For the short answer questions _please use your own words_. The expectation is that you have **not** copied and pasted from an external source, even if you consult another source to help craft your response. While the short answer questions are not necessarily being assessed on grammatical correctness or sentence structure, you should do your best to communicate yourself clearly."
   ]
  },
  {
   "cell_type": "markdown",
   "metadata": {},
   "source": [
    "---\n",
    "## Part 1: Pandas [Suggested Time: 15 minutes]\n",
    "---"
   ]
  },
  {
   "cell_type": "markdown",
   "metadata": {},
   "source": [
    "In this section you will be doing some preprocessing for a dataset for the videogame [FIFA19](https://www.kaggle.com/karangadiya/fifa19). The dataset contains both data for the game as well as information about the players' real life careers."
   ]
  },
  {
   "cell_type": "code",
   "execution_count": 14,
   "metadata": {},
   "outputs": [],
   "source": [
    "# Run this cell without changes\n",
    "\n",
    "import pandas as pd\n",
    "import numpy as np\n",
    "import warnings\n",
    "warnings.filterwarnings('ignore')"
   ]
  },
  {
   "cell_type": "markdown",
   "metadata": {},
   "source": [
    "### 1.1) Read the CSV file into a pandas DataFrame\n",
    "\n",
    "The data you'll be working with is in a file called `'./data/fifa.csv'`. Use your knowledge of pandas to create a new DataFrame, called `df`, using the data from this CSV file. \n",
    "\n",
    "Check the contents of the first few rows of your DataFrame, then show the size of the DataFrame. "
   ]
  },
  {
   "cell_type": "code",
   "execution_count": 15,
   "metadata": {},
   "outputs": [],
   "source": [
    "# Replace None with appropriate code\n",
    "df = pd.read_csv('./data/fifa.csv', index_col=0)\n"
   ]
  },
  {
   "cell_type": "code",
   "execution_count": 16,
   "metadata": {},
   "outputs": [
    {
     "data": {
      "text/html": [
       "<div>\n",
       "<style scoped>\n",
       "    .dataframe tbody tr th:only-of-type {\n",
       "        vertical-align: middle;\n",
       "    }\n",
       "\n",
       "    .dataframe tbody tr th {\n",
       "        vertical-align: top;\n",
       "    }\n",
       "\n",
       "    .dataframe thead th {\n",
       "        text-align: right;\n",
       "    }\n",
       "</style>\n",
       "<table border=\"1\" class=\"dataframe\">\n",
       "  <thead>\n",
       "    <tr style=\"text-align: right;\">\n",
       "      <th></th>\n",
       "      <th>Name</th>\n",
       "      <th>Age</th>\n",
       "      <th>Photo</th>\n",
       "      <th>Nationality</th>\n",
       "      <th>Flag</th>\n",
       "      <th>Overall</th>\n",
       "      <th>Potential</th>\n",
       "      <th>Club</th>\n",
       "      <th>Club Logo</th>\n",
       "      <th>Value</th>\n",
       "      <th>...</th>\n",
       "      <th>Composure</th>\n",
       "      <th>Marking</th>\n",
       "      <th>StandingTackle</th>\n",
       "      <th>SlidingTackle</th>\n",
       "      <th>GKDiving</th>\n",
       "      <th>GKHandling</th>\n",
       "      <th>GKKicking</th>\n",
       "      <th>GKPositioning</th>\n",
       "      <th>GKReflexes</th>\n",
       "      <th>Release Clause</th>\n",
       "    </tr>\n",
       "    <tr>\n",
       "      <th>ID</th>\n",
       "      <th></th>\n",
       "      <th></th>\n",
       "      <th></th>\n",
       "      <th></th>\n",
       "      <th></th>\n",
       "      <th></th>\n",
       "      <th></th>\n",
       "      <th></th>\n",
       "      <th></th>\n",
       "      <th></th>\n",
       "      <th></th>\n",
       "      <th></th>\n",
       "      <th></th>\n",
       "      <th></th>\n",
       "      <th></th>\n",
       "      <th></th>\n",
       "      <th></th>\n",
       "      <th></th>\n",
       "      <th></th>\n",
       "      <th></th>\n",
       "      <th></th>\n",
       "    </tr>\n",
       "  </thead>\n",
       "  <tbody>\n",
       "    <tr>\n",
       "      <td>158023</td>\n",
       "      <td>L. Messi</td>\n",
       "      <td>31</td>\n",
       "      <td>https://cdn.sofifa.org/players/4/19/158023.png</td>\n",
       "      <td>Argentina</td>\n",
       "      <td>https://cdn.sofifa.org/flags/52.png</td>\n",
       "      <td>94</td>\n",
       "      <td>94</td>\n",
       "      <td>FC Barcelona</td>\n",
       "      <td>https://cdn.sofifa.org/teams/2/light/241.png</td>\n",
       "      <td>€110.5M</td>\n",
       "      <td>...</td>\n",
       "      <td>96.0</td>\n",
       "      <td>33.0</td>\n",
       "      <td>28.0</td>\n",
       "      <td>26.0</td>\n",
       "      <td>6.0</td>\n",
       "      <td>11.0</td>\n",
       "      <td>15.0</td>\n",
       "      <td>14.0</td>\n",
       "      <td>8.0</td>\n",
       "      <td>226500.0</td>\n",
       "    </tr>\n",
       "    <tr>\n",
       "      <td>20801</td>\n",
       "      <td>Cristiano Ronaldo</td>\n",
       "      <td>33</td>\n",
       "      <td>https://cdn.sofifa.org/players/4/19/20801.png</td>\n",
       "      <td>Portugal</td>\n",
       "      <td>https://cdn.sofifa.org/flags/38.png</td>\n",
       "      <td>94</td>\n",
       "      <td>94</td>\n",
       "      <td>Juventus</td>\n",
       "      <td>https://cdn.sofifa.org/teams/2/light/45.png</td>\n",
       "      <td>€77M</td>\n",
       "      <td>...</td>\n",
       "      <td>95.0</td>\n",
       "      <td>28.0</td>\n",
       "      <td>31.0</td>\n",
       "      <td>23.0</td>\n",
       "      <td>7.0</td>\n",
       "      <td>11.0</td>\n",
       "      <td>15.0</td>\n",
       "      <td>14.0</td>\n",
       "      <td>11.0</td>\n",
       "      <td>127100.0</td>\n",
       "    </tr>\n",
       "    <tr>\n",
       "      <td>190871</td>\n",
       "      <td>Neymar Jr</td>\n",
       "      <td>26</td>\n",
       "      <td>https://cdn.sofifa.org/players/4/19/190871.png</td>\n",
       "      <td>Brazil</td>\n",
       "      <td>https://cdn.sofifa.org/flags/54.png</td>\n",
       "      <td>92</td>\n",
       "      <td>93</td>\n",
       "      <td>Paris Saint-Germain</td>\n",
       "      <td>https://cdn.sofifa.org/teams/2/light/73.png</td>\n",
       "      <td>€118.5M</td>\n",
       "      <td>...</td>\n",
       "      <td>94.0</td>\n",
       "      <td>27.0</td>\n",
       "      <td>24.0</td>\n",
       "      <td>33.0</td>\n",
       "      <td>9.0</td>\n",
       "      <td>9.0</td>\n",
       "      <td>15.0</td>\n",
       "      <td>15.0</td>\n",
       "      <td>11.0</td>\n",
       "      <td>228100.0</td>\n",
       "    </tr>\n",
       "    <tr>\n",
       "      <td>193080</td>\n",
       "      <td>De Gea</td>\n",
       "      <td>27</td>\n",
       "      <td>https://cdn.sofifa.org/players/4/19/193080.png</td>\n",
       "      <td>Spain</td>\n",
       "      <td>https://cdn.sofifa.org/flags/45.png</td>\n",
       "      <td>91</td>\n",
       "      <td>93</td>\n",
       "      <td>Manchester United</td>\n",
       "      <td>https://cdn.sofifa.org/teams/2/light/11.png</td>\n",
       "      <td>€72M</td>\n",
       "      <td>...</td>\n",
       "      <td>68.0</td>\n",
       "      <td>15.0</td>\n",
       "      <td>21.0</td>\n",
       "      <td>13.0</td>\n",
       "      <td>90.0</td>\n",
       "      <td>85.0</td>\n",
       "      <td>87.0</td>\n",
       "      <td>88.0</td>\n",
       "      <td>94.0</td>\n",
       "      <td>138600.0</td>\n",
       "    </tr>\n",
       "    <tr>\n",
       "      <td>192985</td>\n",
       "      <td>K. De Bruyne</td>\n",
       "      <td>27</td>\n",
       "      <td>https://cdn.sofifa.org/players/4/19/192985.png</td>\n",
       "      <td>Belgium</td>\n",
       "      <td>https://cdn.sofifa.org/flags/7.png</td>\n",
       "      <td>91</td>\n",
       "      <td>92</td>\n",
       "      <td>Manchester City</td>\n",
       "      <td>https://cdn.sofifa.org/teams/2/light/10.png</td>\n",
       "      <td>€102M</td>\n",
       "      <td>...</td>\n",
       "      <td>88.0</td>\n",
       "      <td>68.0</td>\n",
       "      <td>58.0</td>\n",
       "      <td>51.0</td>\n",
       "      <td>15.0</td>\n",
       "      <td>13.0</td>\n",
       "      <td>5.0</td>\n",
       "      <td>10.0</td>\n",
       "      <td>13.0</td>\n",
       "      <td>196400.0</td>\n",
       "    </tr>\n",
       "  </tbody>\n",
       "</table>\n",
       "<p>5 rows × 87 columns</p>\n",
       "</div>"
      ],
      "text/plain": [
       "                     Name  Age  \\\n",
       "ID                               \n",
       "158023           L. Messi   31   \n",
       "20801   Cristiano Ronaldo   33   \n",
       "190871          Neymar Jr   26   \n",
       "193080             De Gea   27   \n",
       "192985       K. De Bruyne   27   \n",
       "\n",
       "                                                 Photo Nationality  \\\n",
       "ID                                                                   \n",
       "158023  https://cdn.sofifa.org/players/4/19/158023.png   Argentina   \n",
       "20801    https://cdn.sofifa.org/players/4/19/20801.png    Portugal   \n",
       "190871  https://cdn.sofifa.org/players/4/19/190871.png      Brazil   \n",
       "193080  https://cdn.sofifa.org/players/4/19/193080.png       Spain   \n",
       "192985  https://cdn.sofifa.org/players/4/19/192985.png     Belgium   \n",
       "\n",
       "                                       Flag  Overall  Potential  \\\n",
       "ID                                                                \n",
       "158023  https://cdn.sofifa.org/flags/52.png       94         94   \n",
       "20801   https://cdn.sofifa.org/flags/38.png       94         94   \n",
       "190871  https://cdn.sofifa.org/flags/54.png       92         93   \n",
       "193080  https://cdn.sofifa.org/flags/45.png       91         93   \n",
       "192985   https://cdn.sofifa.org/flags/7.png       91         92   \n",
       "\n",
       "                       Club                                     Club Logo  \\\n",
       "ID                                                                          \n",
       "158023         FC Barcelona  https://cdn.sofifa.org/teams/2/light/241.png   \n",
       "20801              Juventus   https://cdn.sofifa.org/teams/2/light/45.png   \n",
       "190871  Paris Saint-Germain   https://cdn.sofifa.org/teams/2/light/73.png   \n",
       "193080    Manchester United   https://cdn.sofifa.org/teams/2/light/11.png   \n",
       "192985      Manchester City   https://cdn.sofifa.org/teams/2/light/10.png   \n",
       "\n",
       "          Value  ... Composure  Marking StandingTackle  SlidingTackle  \\\n",
       "ID               ...                                                    \n",
       "158023  €110.5M  ...      96.0     33.0           28.0           26.0   \n",
       "20801      €77M  ...      95.0     28.0           31.0           23.0   \n",
       "190871  €118.5M  ...      94.0     27.0           24.0           33.0   \n",
       "193080     €72M  ...      68.0     15.0           21.0           13.0   \n",
       "192985    €102M  ...      88.0     68.0           58.0           51.0   \n",
       "\n",
       "        GKDiving  GKHandling GKKicking GKPositioning GKReflexes Release Clause  \n",
       "ID                                                                              \n",
       "158023       6.0        11.0      15.0          14.0        8.0       226500.0  \n",
       "20801        7.0        11.0      15.0          14.0       11.0       127100.0  \n",
       "190871       9.0         9.0      15.0          15.0       11.0       228100.0  \n",
       "193080      90.0        85.0      87.0          88.0       94.0       138600.0  \n",
       "192985      15.0        13.0       5.0          10.0       13.0       196400.0  \n",
       "\n",
       "[5 rows x 87 columns]"
      ]
     },
     "execution_count": 16,
     "metadata": {},
     "output_type": "execute_result"
    }
   ],
   "source": [
    "# Code here to check the first few rows of the DataFrame\n",
    "df.head()"
   ]
  },
  {
   "cell_type": "code",
   "execution_count": 17,
   "metadata": {},
   "outputs": [
    {
     "data": {
      "text/plain": [
       "(18207, 87)"
      ]
     },
     "execution_count": 17,
     "metadata": {},
     "output_type": "execute_result"
    }
   ],
   "source": [
    "# Code here to see the size of the DataFrame\n",
    "df.shape"
   ]
  },
  {
   "cell_type": "markdown",
   "metadata": {},
   "source": [
    "### 1.2) Drop rows with missing values for `'Release Clause'`\n",
    "    \n",
    "Drop rows for which \"Release Clause\" is none or not given. This is part of a soccer player's contract dealing with being bought out by another team. After you have dropped them, see how many rows are remaining."
   ]
  },
  {
   "cell_type": "code",
   "execution_count": 18,
   "metadata": {},
   "outputs": [],
   "source": [
    "# Code here to drop rows with missing values for 'Release Clause'\n",
    "df.dropna(subset=['Release Clause'], inplace=True)"
   ]
  },
  {
   "cell_type": "code",
   "execution_count": 19,
   "metadata": {},
   "outputs": [
    {
     "data": {
      "text/plain": [
       "(16643, 87)"
      ]
     },
     "execution_count": 19,
     "metadata": {},
     "output_type": "execute_result"
    }
   ],
   "source": [
    "# Code here to check how many rows are left \n",
    "df.shape"
   ]
  },
  {
   "cell_type": "markdown",
   "metadata": {},
   "source": [
    "### 1.3) Convert the `'Release Clause'` Price from Euros to Dollars\n",
    "\n",
    "Now that there are no missing values, we can change the values in the `'Release Clause'` column from Euro to Dollar amounts.\n",
    "\n",
    "Assume the current exchange rate is `1 Euro = 1.2 Dollars`"
   ]
  },
  {
   "cell_type": "code",
   "execution_count": 20,
   "metadata": {},
   "outputs": [
    {
     "data": {
      "text/html": [
       "<div>\n",
       "<style scoped>\n",
       "    .dataframe tbody tr th:only-of-type {\n",
       "        vertical-align: middle;\n",
       "    }\n",
       "\n",
       "    .dataframe tbody tr th {\n",
       "        vertical-align: top;\n",
       "    }\n",
       "\n",
       "    .dataframe thead th {\n",
       "        text-align: right;\n",
       "    }\n",
       "</style>\n",
       "<table border=\"1\" class=\"dataframe\">\n",
       "  <thead>\n",
       "    <tr style=\"text-align: right;\">\n",
       "      <th></th>\n",
       "      <th>Name</th>\n",
       "      <th>Age</th>\n",
       "      <th>Photo</th>\n",
       "      <th>Nationality</th>\n",
       "      <th>Flag</th>\n",
       "      <th>Overall</th>\n",
       "      <th>Potential</th>\n",
       "      <th>Club</th>\n",
       "      <th>Club Logo</th>\n",
       "      <th>Value</th>\n",
       "      <th>...</th>\n",
       "      <th>Composure</th>\n",
       "      <th>Marking</th>\n",
       "      <th>StandingTackle</th>\n",
       "      <th>SlidingTackle</th>\n",
       "      <th>GKDiving</th>\n",
       "      <th>GKHandling</th>\n",
       "      <th>GKKicking</th>\n",
       "      <th>GKPositioning</th>\n",
       "      <th>GKReflexes</th>\n",
       "      <th>Release Clause</th>\n",
       "    </tr>\n",
       "    <tr>\n",
       "      <th>ID</th>\n",
       "      <th></th>\n",
       "      <th></th>\n",
       "      <th></th>\n",
       "      <th></th>\n",
       "      <th></th>\n",
       "      <th></th>\n",
       "      <th></th>\n",
       "      <th></th>\n",
       "      <th></th>\n",
       "      <th></th>\n",
       "      <th></th>\n",
       "      <th></th>\n",
       "      <th></th>\n",
       "      <th></th>\n",
       "      <th></th>\n",
       "      <th></th>\n",
       "      <th></th>\n",
       "      <th></th>\n",
       "      <th></th>\n",
       "      <th></th>\n",
       "      <th></th>\n",
       "    </tr>\n",
       "  </thead>\n",
       "  <tbody>\n",
       "    <tr>\n",
       "      <td>158023</td>\n",
       "      <td>L. Messi</td>\n",
       "      <td>31</td>\n",
       "      <td>https://cdn.sofifa.org/players/4/19/158023.png</td>\n",
       "      <td>Argentina</td>\n",
       "      <td>https://cdn.sofifa.org/flags/52.png</td>\n",
       "      <td>94</td>\n",
       "      <td>94</td>\n",
       "      <td>FC Barcelona</td>\n",
       "      <td>https://cdn.sofifa.org/teams/2/light/241.png</td>\n",
       "      <td>€110.5M</td>\n",
       "      <td>...</td>\n",
       "      <td>96.0</td>\n",
       "      <td>33.0</td>\n",
       "      <td>28.0</td>\n",
       "      <td>26.0</td>\n",
       "      <td>6.0</td>\n",
       "      <td>11.0</td>\n",
       "      <td>15.0</td>\n",
       "      <td>14.0</td>\n",
       "      <td>8.0</td>\n",
       "      <td>271800.0</td>\n",
       "    </tr>\n",
       "    <tr>\n",
       "      <td>20801</td>\n",
       "      <td>Cristiano Ronaldo</td>\n",
       "      <td>33</td>\n",
       "      <td>https://cdn.sofifa.org/players/4/19/20801.png</td>\n",
       "      <td>Portugal</td>\n",
       "      <td>https://cdn.sofifa.org/flags/38.png</td>\n",
       "      <td>94</td>\n",
       "      <td>94</td>\n",
       "      <td>Juventus</td>\n",
       "      <td>https://cdn.sofifa.org/teams/2/light/45.png</td>\n",
       "      <td>€77M</td>\n",
       "      <td>...</td>\n",
       "      <td>95.0</td>\n",
       "      <td>28.0</td>\n",
       "      <td>31.0</td>\n",
       "      <td>23.0</td>\n",
       "      <td>7.0</td>\n",
       "      <td>11.0</td>\n",
       "      <td>15.0</td>\n",
       "      <td>14.0</td>\n",
       "      <td>11.0</td>\n",
       "      <td>152520.0</td>\n",
       "    </tr>\n",
       "    <tr>\n",
       "      <td>190871</td>\n",
       "      <td>Neymar Jr</td>\n",
       "      <td>26</td>\n",
       "      <td>https://cdn.sofifa.org/players/4/19/190871.png</td>\n",
       "      <td>Brazil</td>\n",
       "      <td>https://cdn.sofifa.org/flags/54.png</td>\n",
       "      <td>92</td>\n",
       "      <td>93</td>\n",
       "      <td>Paris Saint-Germain</td>\n",
       "      <td>https://cdn.sofifa.org/teams/2/light/73.png</td>\n",
       "      <td>€118.5M</td>\n",
       "      <td>...</td>\n",
       "      <td>94.0</td>\n",
       "      <td>27.0</td>\n",
       "      <td>24.0</td>\n",
       "      <td>33.0</td>\n",
       "      <td>9.0</td>\n",
       "      <td>9.0</td>\n",
       "      <td>15.0</td>\n",
       "      <td>15.0</td>\n",
       "      <td>11.0</td>\n",
       "      <td>273720.0</td>\n",
       "    </tr>\n",
       "    <tr>\n",
       "      <td>193080</td>\n",
       "      <td>De Gea</td>\n",
       "      <td>27</td>\n",
       "      <td>https://cdn.sofifa.org/players/4/19/193080.png</td>\n",
       "      <td>Spain</td>\n",
       "      <td>https://cdn.sofifa.org/flags/45.png</td>\n",
       "      <td>91</td>\n",
       "      <td>93</td>\n",
       "      <td>Manchester United</td>\n",
       "      <td>https://cdn.sofifa.org/teams/2/light/11.png</td>\n",
       "      <td>€72M</td>\n",
       "      <td>...</td>\n",
       "      <td>68.0</td>\n",
       "      <td>15.0</td>\n",
       "      <td>21.0</td>\n",
       "      <td>13.0</td>\n",
       "      <td>90.0</td>\n",
       "      <td>85.0</td>\n",
       "      <td>87.0</td>\n",
       "      <td>88.0</td>\n",
       "      <td>94.0</td>\n",
       "      <td>166320.0</td>\n",
       "    </tr>\n",
       "    <tr>\n",
       "      <td>192985</td>\n",
       "      <td>K. De Bruyne</td>\n",
       "      <td>27</td>\n",
       "      <td>https://cdn.sofifa.org/players/4/19/192985.png</td>\n",
       "      <td>Belgium</td>\n",
       "      <td>https://cdn.sofifa.org/flags/7.png</td>\n",
       "      <td>91</td>\n",
       "      <td>92</td>\n",
       "      <td>Manchester City</td>\n",
       "      <td>https://cdn.sofifa.org/teams/2/light/10.png</td>\n",
       "      <td>€102M</td>\n",
       "      <td>...</td>\n",
       "      <td>88.0</td>\n",
       "      <td>68.0</td>\n",
       "      <td>58.0</td>\n",
       "      <td>51.0</td>\n",
       "      <td>15.0</td>\n",
       "      <td>13.0</td>\n",
       "      <td>5.0</td>\n",
       "      <td>10.0</td>\n",
       "      <td>13.0</td>\n",
       "      <td>235680.0</td>\n",
       "    </tr>\n",
       "  </tbody>\n",
       "</table>\n",
       "<p>5 rows × 87 columns</p>\n",
       "</div>"
      ],
      "text/plain": [
       "                     Name  Age  \\\n",
       "ID                               \n",
       "158023           L. Messi   31   \n",
       "20801   Cristiano Ronaldo   33   \n",
       "190871          Neymar Jr   26   \n",
       "193080             De Gea   27   \n",
       "192985       K. De Bruyne   27   \n",
       "\n",
       "                                                 Photo Nationality  \\\n",
       "ID                                                                   \n",
       "158023  https://cdn.sofifa.org/players/4/19/158023.png   Argentina   \n",
       "20801    https://cdn.sofifa.org/players/4/19/20801.png    Portugal   \n",
       "190871  https://cdn.sofifa.org/players/4/19/190871.png      Brazil   \n",
       "193080  https://cdn.sofifa.org/players/4/19/193080.png       Spain   \n",
       "192985  https://cdn.sofifa.org/players/4/19/192985.png     Belgium   \n",
       "\n",
       "                                       Flag  Overall  Potential  \\\n",
       "ID                                                                \n",
       "158023  https://cdn.sofifa.org/flags/52.png       94         94   \n",
       "20801   https://cdn.sofifa.org/flags/38.png       94         94   \n",
       "190871  https://cdn.sofifa.org/flags/54.png       92         93   \n",
       "193080  https://cdn.sofifa.org/flags/45.png       91         93   \n",
       "192985   https://cdn.sofifa.org/flags/7.png       91         92   \n",
       "\n",
       "                       Club                                     Club Logo  \\\n",
       "ID                                                                          \n",
       "158023         FC Barcelona  https://cdn.sofifa.org/teams/2/light/241.png   \n",
       "20801              Juventus   https://cdn.sofifa.org/teams/2/light/45.png   \n",
       "190871  Paris Saint-Germain   https://cdn.sofifa.org/teams/2/light/73.png   \n",
       "193080    Manchester United   https://cdn.sofifa.org/teams/2/light/11.png   \n",
       "192985      Manchester City   https://cdn.sofifa.org/teams/2/light/10.png   \n",
       "\n",
       "          Value  ... Composure  Marking StandingTackle  SlidingTackle  \\\n",
       "ID               ...                                                    \n",
       "158023  €110.5M  ...      96.0     33.0           28.0           26.0   \n",
       "20801      €77M  ...      95.0     28.0           31.0           23.0   \n",
       "190871  €118.5M  ...      94.0     27.0           24.0           33.0   \n",
       "193080     €72M  ...      68.0     15.0           21.0           13.0   \n",
       "192985    €102M  ...      88.0     68.0           58.0           51.0   \n",
       "\n",
       "        GKDiving  GKHandling GKKicking GKPositioning GKReflexes Release Clause  \n",
       "ID                                                                              \n",
       "158023       6.0        11.0      15.0          14.0        8.0       271800.0  \n",
       "20801        7.0        11.0      15.0          14.0       11.0       152520.0  \n",
       "190871       9.0         9.0      15.0          15.0       11.0       273720.0  \n",
       "193080      90.0        85.0      87.0          88.0       94.0       166320.0  \n",
       "192985      15.0        13.0       5.0          10.0       13.0       235680.0  \n",
       "\n",
       "[5 rows x 87 columns]"
      ]
     },
     "execution_count": 20,
     "metadata": {},
     "output_type": "execute_result"
    }
   ],
   "source": [
    "# Code here to convert the column of euros to dollars\n",
    "df['Release Clause'] = [x*1.2 for x in df['Release Clause']]\n",
    "df.head()"
   ]
  },
  {
   "cell_type": "markdown",
   "metadata": {},
   "source": [
    "---\n",
    "## Part 2: Data Visualization [Suggested Time: 20 minutes]\n",
    "---"
   ]
  },
  {
   "cell_type": "markdown",
   "metadata": {},
   "source": [
    "Continuing to use the same FIFA dataset, plot data using whichever plotting library you are most comfortable with."
   ]
  },
  {
   "cell_type": "code",
   "execution_count": 21,
   "metadata": {},
   "outputs": [],
   "source": [
    "# Run this cell without changes\n",
    "\n",
    "import matplotlib.pyplot as plt\n",
    "import seaborn as sns\n",
    "%matplotlib inline"
   ]
  },
  {
   "cell_type": "markdown",
   "metadata": {},
   "source": [
    "### 2.1) Find the top 10 countries with the most players (using the `'Nationality'` column). Create a bar chart showing the number of players from those 10 countries.\n",
    "\n",
    "Don't forget to add a **title** and **x axis label** to your charts.\n",
    "\n",
    "If you are unable to find the top 10 countries but want the chance to demonstrate your plotting skills use the following dummy data to create a bar chart: \n",
    "\n",
    "```\n",
    "Country Name  | Num Players\n",
    "============  | ===========\n",
    "Country A     | 100\n",
    "Country B     | 60\n",
    "Country C     | 125\n",
    "Country D     | 89\n",
    "```"
   ]
  },
  {
   "cell_type": "code",
   "execution_count": 32,
   "metadata": {},
   "outputs": [
    {
     "data": {
      "text/plain": [
       "Nationality\n",
       "England        1475\n",
       "Germany        1151\n",
       "Spain           974\n",
       "France          853\n",
       "Argentina       833\n",
       "Brazil          788\n",
       "Italy           579\n",
       "Colombia        570\n",
       "Japan           455\n",
       "Netherlands     426\n",
       "Name: Name, dtype: int64"
      ]
     },
     "execution_count": 32,
     "metadata": {},
     "output_type": "execute_result"
    }
   ],
   "source": [
    "# Code here to get the top 10 countries with the most players\n",
    "country_players = df.groupby('Nationality')['Name'].count()\n",
    "country_players.sort_values(ascending=False, inplace=True)\n",
    "most_players = country_players.head(10)\n",
    "most_players"
   ]
  },
  {
   "cell_type": "code",
   "execution_count": 40,
   "metadata": {},
   "outputs": [
    {
     "data": {
      "text/plain": [
       "Text(0.5, 0, 'Country')"
      ]
     },
     "execution_count": 40,
     "metadata": {},
     "output_type": "execute_result"
    },
    {
     "data": {
      "image/png": "[encoded data removed]",
      "text/plain": [
       "<Figure size 720x432 with 1 Axes>"
      ]
     },
     "metadata": {
      "needs_background": "light"
     },
     "output_type": "display_data"
    }
   ],
   "source": [
    "# Code here to plot a bar chart.  A recommended figsize is (10, 6)\n",
    "plt.figure(figsize=(10,6))\n",
    "ax = sns.barplot(most_players.index, most_players.values)\n",
    "ax.set_title('Top 10 Countries with most Players')\n",
    "ax.set_xlabel('Country')"
   ]
  },
  {
   "cell_type": "markdown",
   "metadata": {},
   "source": [
    "### 2.2) Describe the relationship between `StandingTackle` and `SlidingTackle`, as shown in the scatter plot produced below."
   ]
  },
  {
   "cell_type": "code",
   "execution_count": 41,
   "metadata": {},
   "outputs": [
    {
     "data": {
      "text/plain": [
       "<matplotlib.collections.PathCollection at 0x1a23793850>"
      ]
     },
     "execution_count": 41,
     "metadata": {},
     "output_type": "execute_result"
    },
    {
     "data": {
      "image/png": "[encoded data removed]",
      "text/plain": [
       "<Figure size 432x288 with 1 Axes>"
      ]
     },
     "metadata": {
      "needs_background": "light"
     },
     "output_type": "display_data"
    }
   ],
   "source": [
    "# Run this cell without changes\n",
    "\n",
    "fig, ax = plt.subplots()\n",
    "\n",
    "ax.set_title('Standing Tackle vs. Sliding Tackle')\n",
    "ax.set_xlabel('Standing Tackle')\n",
    "ax.set_ylabel('Sliding Tackle')\n",
    "\n",
    "x = df['StandingTackle']\n",
    "y = df['SlidingTackle']\n",
    "\n",
    "ax.scatter(x, y)"
   ]
  },
  {
   "cell_type": "markdown",
   "metadata": {},
   "source": [
    "Please describe in words the relationship between these two features."
   ]
  },
  {
   "cell_type": "code",
   "execution_count": 53,
   "metadata": {},
   "outputs": [
    {
     "data": {
      "text/plain": [
       "\"These variables look to have a strong positive correlation. When one variable increases, so does the other. In this dataset, these values represent a player's rating in each of these positions. This can be interpreted as saying that the better a player is at standing tackle, the better they are at sliding tackle, and vice versa. \""
      ]
     },
     "execution_count": 53,
     "metadata": {},
     "output_type": "execute_result"
    }
   ],
   "source": [
    "# Your written answer here\n",
    "\"\"\"These variables look to have a strong positive correlation. When one variable increases, so does the other. In this dataset, these values represent a player's rating in each of these positions. This can be interpreted as saying that the better a player is at standing tackle, the better they are at sliding tackle, and vice versa. \"\"\""
   ]
  },
  {
   "cell_type": "markdown",
   "metadata": {},
   "source": [
    "---\n",
    "## Part 3: Exploring Statistical Data [Suggested Time: 20 minutes]\n",
    "---"
   ]
  },
  {
   "cell_type": "markdown",
   "metadata": {},
   "source": [
    "### 3.1) What are the mean age and the median age for the players in this dataset?"
   ]
  },
  {
   "cell_type": "code",
   "execution_count": 52,
   "metadata": {},
   "outputs": [
    {
     "name": "stdout",
     "output_type": "stream",
     "text": [
      "25.226221234152497 25.0\n"
     ]
    }
   ],
   "source": [
    "# Code here to find the mean age and median age\n",
    "mean_age = df['Age'].mean()\n",
    "median_age = df['Age'].median()\n",
    "print(mean_age, median_age)"
   ]
  },
  {
   "cell_type": "markdown",
   "metadata": {},
   "source": [
    "In your own words, how are the mean and median related to each other and what do these values tell us about the distribution of the column `'Age'`? "
   ]
  },
  {
   "cell_type": "code",
   "execution_count": 58,
   "metadata": {},
   "outputs": [
    {
     "data": {
      "text/plain": [
       "'Both of these values are calculated to measure the Central Tendency of a dataset. The mean represents the average of all values. The median is the value in the \"middle\" of all values, separating the higher half from the lower half. Calculating both of these can tell us how the values are distributed among the data set. In this case, since the mean and median are almost exactly the same, we can tell the data is evenly distributed from lowest to highest values. This makes sense because the average value of the entire set is equal to the value right in the \"middle\" of the data. This means about half of the values in the set are above the average, and about half are below.'"
      ]
     },
     "execution_count": 58,
     "metadata": {},
     "output_type": "execute_result"
    }
   ],
   "source": [
    "# Your written answer here\n",
    "\"\"\"Both of these values are calculated to measure the Central Tendency of a dataset. The mean represents the average of all values. The median is the value in the \"middle\" of all values, separating the higher half from the lower half. Calculating both of these can tell us how the values are distributed among the data set. In this case, since the mean and median are almost exactly the same, we can tell the data is evenly distributed from lowest to highest values. This makes sense because the average value of the entire set is equal to the value right in the \"middle\" of the data. This means about half of the values in the set are above the average, and about half are below.\"\"\"\n"
   ]
  },
  {
   "cell_type": "markdown",
   "metadata": {},
   "source": [
    "### 3.2) Who is the oldest player from Argentina and how old is he?\n",
    "Use the `Nationality` column."
   ]
  },
  {
   "cell_type": "code",
   "execution_count": 88,
   "metadata": {},
   "outputs": [
    {
     "data": {
      "text/html": [
       "<div>\n",
       "<style scoped>\n",
       "    .dataframe tbody tr th:only-of-type {\n",
       "        vertical-align: middle;\n",
       "    }\n",
       "\n",
       "    .dataframe tbody tr th {\n",
       "        vertical-align: top;\n",
       "    }\n",
       "\n",
       "    .dataframe thead th {\n",
       "        text-align: right;\n",
       "    }\n",
       "</style>\n",
       "<table border=\"1\" class=\"dataframe\">\n",
       "  <thead>\n",
       "    <tr style=\"text-align: right;\">\n",
       "      <th></th>\n",
       "      <th>Age</th>\n",
       "    </tr>\n",
       "    <tr>\n",
       "      <th>Name</th>\n",
       "      <th></th>\n",
       "    </tr>\n",
       "  </thead>\n",
       "  <tbody>\n",
       "    <tr>\n",
       "      <td>C. Muñoz</td>\n",
       "      <td>41</td>\n",
       "    </tr>\n",
       "  </tbody>\n",
       "</table>\n",
       "</div>"
      ],
      "text/plain": [
       "          Age\n",
       "Name         \n",
       "C. Muñoz   41"
      ]
     },
     "execution_count": 88,
     "metadata": {},
     "output_type": "execute_result"
    }
   ],
   "source": [
    "# Code here to find the oldest player in Argentina\n",
    "player_ages = pd.DataFrame(df.groupby(['Nationality', 'Name'])['Age'].max()) # group players by country and list their age\n",
    "arg_names = player_ages.loc['Argentina'] # get name and age of every player in Argentina\n",
    "max_arg_age = player_ages.loc['Argentina'].max() # get max age of players in Argentina\n",
    "name = arg_names.loc[arg_names['Age'] == max_arg_age['Age']] # find the name of the player from Argentina who has the max age value \n",
    "name"
   ]
  },
  {
   "cell_type": "code",
   "execution_count": 89,
   "metadata": {},
   "outputs": [
    {
     "data": {
      "text/plain": [
       "'The oldest player from Argentina is C. Muñoz at 41.'"
      ]
     },
     "execution_count": 89,
     "metadata": {},
     "output_type": "execute_result"
    }
   ],
   "source": [
    "# Your written answer here\n",
    "\"\"\"The oldest player from Argentina is C. Muñoz at 41.\"\"\""
   ]
  },
  {
   "cell_type": "markdown",
   "metadata": {},
   "source": [
    "---\n",
    "## Part 4: Python Data Structures [Suggested Time: 20 min]\n",
    "---"
   ]
  },
  {
   "cell_type": "markdown",
   "metadata": {},
   "source": [
    "In this final section, we will work with various Python data types and try to accomplish certain tasks using some fundamental data structures in Python, rather than using Pandas DataFrames. Below, we've defined a dictionary with soccer player names as keys for nested dictionaries containing information about each player's age, nationality, and a list of teams they have played for."
   ]
  },
  {
   "cell_type": "code",
   "execution_count": 90,
   "metadata": {},
   "outputs": [],
   "source": [
    "# Run this cell without changes\n",
    "\n",
    "players = {\n",
    "    'L. Messi': {\n",
    "        'age': 31,\n",
    "        'nationality': 'Argentina',\n",
    "        'teams': ['Barcelona']\n",
    "    },\n",
    "    'Cristiano Ronaldo': {\n",
    "        'age': 33,\n",
    "        'nationality': 'Portugal',\n",
    "        'teams': ['Juventus', 'Real Madrid', 'Manchester United']\n",
    "    },\n",
    "    'Neymar Jr': {\n",
    "        'age': 26,\n",
    "        'nationality': 'Brazil',\n",
    "        'teams': ['Santos', 'Barcelona', 'Paris Saint-German']\n",
    "    },\n",
    "    'De Gea': {\n",
    "        'age': 27,\n",
    "        'nationality': 'Spain',\n",
    "        'teams': ['Atletico Madrid', 'Manchester United']\n",
    "    },\n",
    "    'K. De Bruyne': {\n",
    "        'age': 27,\n",
    "        'nationality': 'Belgium',\n",
    "        'teams': ['Chelsea', 'Manchester City']\n",
    "    }\n",
    "}"
   ]
  },
  {
   "cell_type": "markdown",
   "metadata": {},
   "source": [
    "### 4.1) Create a `list` of all the keys in the `players` dictionary. Store the list of player names in a variable called `player_names` to use in the next question.\n",
    "\n",
    "Use [Python's documentation on dictionaries](https://docs.python.org/3/tutorial/datastructures.html#dictionaries) for help if needed. "
   ]
  },
  {
   "cell_type": "code",
   "execution_count": 93,
   "metadata": {},
   "outputs": [],
   "source": [
    "# Replace None with appropriate code to get the list of all player names\n",
    "\n",
    "player_names = list(players.keys())"
   ]
  },
  {
   "cell_type": "code",
   "execution_count": 94,
   "metadata": {},
   "outputs": [
    {
     "name": "stdout",
     "output_type": "stream",
     "text": [
      "['L. Messi', 'Cristiano Ronaldo', 'Neymar Jr', 'De Gea', 'K. De Bruyne']\n"
     ]
    }
   ],
   "source": [
    "# Run this cell without changes to check your answer\n",
    "\n",
    "print(player_names)"
   ]
  },
  {
   "cell_type": "markdown",
   "metadata": {},
   "source": [
    "### 4.2) Great! Now that we have the names of all players, let's use that information to create a `list` of `tuples` containing each player's name along with their nationality. Store the list in a variable called `player_nationalities`."
   ]
  },
  {
   "cell_type": "code",
   "execution_count": 100,
   "metadata": {},
   "outputs": [],
   "source": [
    "# Replace None with appropriate code to generate list of tuples such that \n",
    "# the first element is a players name and the second is their nationality \n",
    "# Ex: [('L. Messi', 'Argentina'), ('Christiano Ronaldo', 'Portugal'), ...]\n",
    "\n",
    "player_nationalities = [(player, players[player]['nationality']) for player in players]"
   ]
  },
  {
   "cell_type": "code",
   "execution_count": 101,
   "metadata": {},
   "outputs": [
    {
     "name": "stdout",
     "output_type": "stream",
     "text": [
      "[('L. Messi', 'Argentina'), ('Cristiano Ronaldo', 'Portugal'), ('Neymar Jr', 'Brazil'), ('De Gea', 'Spain'), ('K. De Bruyne', 'Belgium')]\n"
     ]
    }
   ],
   "source": [
    "# Run this cell without changes to check your answer\n",
    "\n",
    "print(player_nationalities)"
   ]
  },
  {
   "cell_type": "markdown",
   "metadata": {},
   "source": [
    "### 4.3) Define a function called `get_players_on_team()` that returns a `list` of the names of all the players who have played on a given team.\n",
    "\n",
    "Your function should take two arguments: \n",
    "\n",
    "- a dictionary of player information\n",
    "- the team name (as a `string`) you are trying to find the players for \n",
    "\n",
    "**Be sure that your function has a `return` statement.**"
   ]
  },
  {
   "cell_type": "code",
   "execution_count": 111,
   "metadata": {},
   "outputs": [],
   "source": [
    "# Code here to define your get_players_on_team() function \n",
    "def get_players_on_team(player_info_dict, team_name):\n",
    "    return [player for player in player_info_dict if team_name in player_info_dict[player]['teams']]\n",
    "\n",
    "# logic below for better readability:\n",
    "\n",
    "#     names = []\n",
    "#     for player in player_info_dict:\n",
    "#         if team_name in player_info_dict[player]['teams']:\n",
    "#             names.append(player)\n",
    "#     return names"
   ]
  },
  {
   "cell_type": "code",
   "execution_count": 112,
   "metadata": {},
   "outputs": [
    {
     "name": "stdout",
     "output_type": "stream",
     "text": [
      "['Cristiano Ronaldo', 'De Gea']\n"
     ]
    }
   ],
   "source": [
    "# Run this cell without changes to check your answer\n",
    "\n",
    "players_on_manchester_united = get_players_on_team(players, 'Manchester United')\n",
    "print(players_on_manchester_united)"
   ]
  },
  {
   "cell_type": "code",
   "execution_count": null,
   "metadata": {},
   "outputs": [],
   "source": []
  }
 ],
 "metadata": {
  "kernelspec": {
   "display_name": "Python 3",
   "language": "python",
   "name": "python3"
  },
  "language_info": {
   "codemirror_mode": {
    "name": "ipython",
    "version": 3
   },
   "file_extension": ".py",
   "mimetype": "text/x-python",
   "name": "python",
   "nbconvert_exporter": "python",
   "pygments_lexer": "ipython3",
   "version": "3.7.4"
  }
 },
 "nbformat": 4,
 "nbformat_minor": 4
}
