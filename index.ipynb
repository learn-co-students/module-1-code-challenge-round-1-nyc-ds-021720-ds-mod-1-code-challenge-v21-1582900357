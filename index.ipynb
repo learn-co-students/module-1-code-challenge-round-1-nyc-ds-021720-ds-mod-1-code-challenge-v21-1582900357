{
 "cells": [
  {
   "cell_type": "markdown",
   "metadata": {},
   "source": [
    "# Module 1 Code Challenge"
   ]
  },
  {
   "cell_type": "markdown",
   "metadata": {},
   "source": [
    "This code challenge is designed to test your understanding of the Module 1 material. It covers:\n",
    "\n",
    "- Pandas\n",
    "- Data Visualization\n",
    "- Exploring Statistical Data\n",
    "- Python Data Structures\n",
    "\n",
    "_Read the instructions carefully._ You will be asked both to write code and to respond to a few short answer questions.\n",
    "\n",
    "### Note on the short answer questions\n",
    "\n",
    "For the short answer questions _please use your own words_. The expectation is that you have **not** copied and pasted from an external source, even if you consult another source to help craft your response. While the short answer questions are not necessarily being assessed on grammatical correctness or sentence structure, you should do your best to communicate yourself clearly."
   ]
  },
  {
   "cell_type": "markdown",
   "metadata": {},
   "source": [
    "---\n",
    "## Part 1: Pandas [Suggested Time: 15 minutes]\n",
    "---"
   ]
  },
  {
   "cell_type": "markdown",
   "metadata": {},
   "source": [
    "In this section you will be doing some preprocessing for a dataset for the videogame [FIFA19](https://www.kaggle.com/karangadiya/fifa19). The dataset contains both data for the game as well as information about the players' real life careers."
   ]
  },
  {
   "cell_type": "code",
   "execution_count": 1,
   "metadata": {},
   "outputs": [],
   "source": [
    "# Run this cell without changes\n",
    "\n",
    "import pandas as pd\n",
    "import numpy as np\n",
    "import warnings\n",
    "warnings.filterwarnings('ignore')"
   ]
  },
  {
   "cell_type": "markdown",
   "metadata": {},
   "source": [
    "### 1.1) Read the CSV file into a pandas DataFrame\n",
    "\n",
    "The data you'll be working with is in a file called `'./data/fifa.csv'`. Use your knowledge of pandas to create a new DataFrame, called `df`, using the data from this CSV file. \n",
    "\n",
    "Check the contents of the first few rows of your DataFrame, then show the size of the DataFrame. "
   ]
  },
  {
   "cell_type": "code",
   "execution_count": 50,
   "metadata": {},
   "outputs": [],
   "source": [
    "# Replace None with appropriate code\n",
    "import csv\n",
    "df = pd.read_csv('./data/fifa.csv')"
   ]
  },
  {
   "cell_type": "code",
   "execution_count": 51,
   "metadata": {},
   "outputs": [
    {
     "data": {
      "text/html": [
       "<div>\n",
       "<style scoped>\n",
       "    .dataframe tbody tr th:only-of-type {\n",
       "        vertical-align: middle;\n",
       "    }\n",
       "\n",
       "    .dataframe tbody tr th {\n",
       "        vertical-align: top;\n",
       "    }\n",
       "\n",
       "    .dataframe thead th {\n",
       "        text-align: right;\n",
       "    }\n",
       "</style>\n",
       "<table border=\"1\" class=\"dataframe\">\n",
       "  <thead>\n",
       "    <tr style=\"text-align: right;\">\n",
       "      <th></th>\n",
       "      <th>ID</th>\n",
       "      <th>Name</th>\n",
       "      <th>Age</th>\n",
       "      <th>Photo</th>\n",
       "      <th>Nationality</th>\n",
       "      <th>Flag</th>\n",
       "      <th>Overall</th>\n",
       "      <th>Potential</th>\n",
       "      <th>Club</th>\n",
       "      <th>Club Logo</th>\n",
       "      <th>...</th>\n",
       "      <th>Composure</th>\n",
       "      <th>Marking</th>\n",
       "      <th>StandingTackle</th>\n",
       "      <th>SlidingTackle</th>\n",
       "      <th>GKDiving</th>\n",
       "      <th>GKHandling</th>\n",
       "      <th>GKKicking</th>\n",
       "      <th>GKPositioning</th>\n",
       "      <th>GKReflexes</th>\n",
       "      <th>Release Clause</th>\n",
       "    </tr>\n",
       "  </thead>\n",
       "  <tbody>\n",
       "    <tr>\n",
       "      <td>0</td>\n",
       "      <td>158023</td>\n",
       "      <td>L. Messi</td>\n",
       "      <td>31</td>\n",
       "      <td>https://cdn.sofifa.org/players/4/19/158023.png</td>\n",
       "      <td>Argentina</td>\n",
       "      <td>https://cdn.sofifa.org/flags/52.png</td>\n",
       "      <td>94</td>\n",
       "      <td>94</td>\n",
       "      <td>FC Barcelona</td>\n",
       "      <td>https://cdn.sofifa.org/teams/2/light/241.png</td>\n",
       "      <td>...</td>\n",
       "      <td>96.0</td>\n",
       "      <td>33.0</td>\n",
       "      <td>28.0</td>\n",
       "      <td>26.0</td>\n",
       "      <td>6.0</td>\n",
       "      <td>11.0</td>\n",
       "      <td>15.0</td>\n",
       "      <td>14.0</td>\n",
       "      <td>8.0</td>\n",
       "      <td>226500.0</td>\n",
       "    </tr>\n",
       "    <tr>\n",
       "      <td>1</td>\n",
       "      <td>20801</td>\n",
       "      <td>Cristiano Ronaldo</td>\n",
       "      <td>33</td>\n",
       "      <td>https://cdn.sofifa.org/players/4/19/20801.png</td>\n",
       "      <td>Portugal</td>\n",
       "      <td>https://cdn.sofifa.org/flags/38.png</td>\n",
       "      <td>94</td>\n",
       "      <td>94</td>\n",
       "      <td>Juventus</td>\n",
       "      <td>https://cdn.sofifa.org/teams/2/light/45.png</td>\n",
       "      <td>...</td>\n",
       "      <td>95.0</td>\n",
       "      <td>28.0</td>\n",
       "      <td>31.0</td>\n",
       "      <td>23.0</td>\n",
       "      <td>7.0</td>\n",
       "      <td>11.0</td>\n",
       "      <td>15.0</td>\n",
       "      <td>14.0</td>\n",
       "      <td>11.0</td>\n",
       "      <td>127100.0</td>\n",
       "    </tr>\n",
       "    <tr>\n",
       "      <td>2</td>\n",
       "      <td>190871</td>\n",
       "      <td>Neymar Jr</td>\n",
       "      <td>26</td>\n",
       "      <td>https://cdn.sofifa.org/players/4/19/190871.png</td>\n",
       "      <td>Brazil</td>\n",
       "      <td>https://cdn.sofifa.org/flags/54.png</td>\n",
       "      <td>92</td>\n",
       "      <td>93</td>\n",
       "      <td>Paris Saint-Germain</td>\n",
       "      <td>https://cdn.sofifa.org/teams/2/light/73.png</td>\n",
       "      <td>...</td>\n",
       "      <td>94.0</td>\n",
       "      <td>27.0</td>\n",
       "      <td>24.0</td>\n",
       "      <td>33.0</td>\n",
       "      <td>9.0</td>\n",
       "      <td>9.0</td>\n",
       "      <td>15.0</td>\n",
       "      <td>15.0</td>\n",
       "      <td>11.0</td>\n",
       "      <td>228100.0</td>\n",
       "    </tr>\n",
       "    <tr>\n",
       "      <td>3</td>\n",
       "      <td>193080</td>\n",
       "      <td>De Gea</td>\n",
       "      <td>27</td>\n",
       "      <td>https://cdn.sofifa.org/players/4/19/193080.png</td>\n",
       "      <td>Spain</td>\n",
       "      <td>https://cdn.sofifa.org/flags/45.png</td>\n",
       "      <td>91</td>\n",
       "      <td>93</td>\n",
       "      <td>Manchester United</td>\n",
       "      <td>https://cdn.sofifa.org/teams/2/light/11.png</td>\n",
       "      <td>...</td>\n",
       "      <td>68.0</td>\n",
       "      <td>15.0</td>\n",
       "      <td>21.0</td>\n",
       "      <td>13.0</td>\n",
       "      <td>90.0</td>\n",
       "      <td>85.0</td>\n",
       "      <td>87.0</td>\n",
       "      <td>88.0</td>\n",
       "      <td>94.0</td>\n",
       "      <td>138600.0</td>\n",
       "    </tr>\n",
       "    <tr>\n",
       "      <td>4</td>\n",
       "      <td>192985</td>\n",
       "      <td>K. De Bruyne</td>\n",
       "      <td>27</td>\n",
       "      <td>https://cdn.sofifa.org/players/4/19/192985.png</td>\n",
       "      <td>Belgium</td>\n",
       "      <td>https://cdn.sofifa.org/flags/7.png</td>\n",
       "      <td>91</td>\n",
       "      <td>92</td>\n",
       "      <td>Manchester City</td>\n",
       "      <td>https://cdn.sofifa.org/teams/2/light/10.png</td>\n",
       "      <td>...</td>\n",
       "      <td>88.0</td>\n",
       "      <td>68.0</td>\n",
       "      <td>58.0</td>\n",
       "      <td>51.0</td>\n",
       "      <td>15.0</td>\n",
       "      <td>13.0</td>\n",
       "      <td>5.0</td>\n",
       "      <td>10.0</td>\n",
       "      <td>13.0</td>\n",
       "      <td>196400.0</td>\n",
       "    </tr>\n",
       "  </tbody>\n",
       "</table>\n",
       "<p>5 rows × 88 columns</p>\n",
       "</div>"
      ],
      "text/plain": [
       "       ID               Name  Age  \\\n",
       "0  158023           L. Messi   31   \n",
       "1   20801  Cristiano Ronaldo   33   \n",
       "2  190871          Neymar Jr   26   \n",
       "3  193080             De Gea   27   \n",
       "4  192985       K. De Bruyne   27   \n",
       "\n",
       "                                            Photo Nationality  \\\n",
       "0  https://cdn.sofifa.org/players/4/19/158023.png   Argentina   \n",
       "1   https://cdn.sofifa.org/players/4/19/20801.png    Portugal   \n",
       "2  https://cdn.sofifa.org/players/4/19/190871.png      Brazil   \n",
       "3  https://cdn.sofifa.org/players/4/19/193080.png       Spain   \n",
       "4  https://cdn.sofifa.org/players/4/19/192985.png     Belgium   \n",
       "\n",
       "                                  Flag  Overall  Potential  \\\n",
       "0  https://cdn.sofifa.org/flags/52.png       94         94   \n",
       "1  https://cdn.sofifa.org/flags/38.png       94         94   \n",
       "2  https://cdn.sofifa.org/flags/54.png       92         93   \n",
       "3  https://cdn.sofifa.org/flags/45.png       91         93   \n",
       "4   https://cdn.sofifa.org/flags/7.png       91         92   \n",
       "\n",
       "                  Club                                     Club Logo  ...  \\\n",
       "0         FC Barcelona  https://cdn.sofifa.org/teams/2/light/241.png  ...   \n",
       "1             Juventus   https://cdn.sofifa.org/teams/2/light/45.png  ...   \n",
       "2  Paris Saint-Germain   https://cdn.sofifa.org/teams/2/light/73.png  ...   \n",
       "3    Manchester United   https://cdn.sofifa.org/teams/2/light/11.png  ...   \n",
       "4      Manchester City   https://cdn.sofifa.org/teams/2/light/10.png  ...   \n",
       "\n",
       "  Composure Marking  StandingTackle SlidingTackle  GKDiving  GKHandling  \\\n",
       "0      96.0    33.0            28.0          26.0       6.0        11.0   \n",
       "1      95.0    28.0            31.0          23.0       7.0        11.0   \n",
       "2      94.0    27.0            24.0          33.0       9.0         9.0   \n",
       "3      68.0    15.0            21.0          13.0      90.0        85.0   \n",
       "4      88.0    68.0            58.0          51.0      15.0        13.0   \n",
       "\n",
       "   GKKicking GKPositioning GKReflexes Release Clause  \n",
       "0       15.0          14.0        8.0       226500.0  \n",
       "1       15.0          14.0       11.0       127100.0  \n",
       "2       15.0          15.0       11.0       228100.0  \n",
       "3       87.0          88.0       94.0       138600.0  \n",
       "4        5.0          10.0       13.0       196400.0  \n",
       "\n",
       "[5 rows x 88 columns]"
      ]
     },
     "execution_count": 51,
     "metadata": {},
     "output_type": "execute_result"
    }
   ],
   "source": [
    "# Code here to check the first few rows of the DataFrame\n",
    "df.head()"
   ]
  },
  {
   "cell_type": "code",
   "execution_count": 52,
   "metadata": {},
   "outputs": [
    {
     "data": {
      "text/plain": [
       "(18207, 88)"
      ]
     },
     "execution_count": 52,
     "metadata": {},
     "output_type": "execute_result"
    }
   ],
   "source": [
    "# Code here to see the size of the DataFrame\n",
    "df.shape"
   ]
  },
  {
   "cell_type": "markdown",
   "metadata": {},
   "source": [
    "### 1.2) Drop rows with missing values for `'Release Clause'`\n",
    "    \n",
    "Drop rows for which \"Release Clause\" is none or not given. This is part of a soccer player's contract dealing with being bought out by another team. After you have dropped them, see how many rows are remaining."
   ]
  },
  {
   "cell_type": "code",
   "execution_count": 60,
   "metadata": {
    "scrolled": true
   },
   "outputs": [
    {
     "data": {
      "text/plain": [
       "0        226500.0\n",
       "1        127100.0\n",
       "2        228100.0\n",
       "3        138600.0\n",
       "4        196400.0\n",
       "           ...   \n",
       "18202    143000.0\n",
       "18203    113000.0\n",
       "18204    165000.0\n",
       "18205    143000.0\n",
       "18206    165000.0\n",
       "Name: Release Clause, Length: 18207, dtype: float64"
      ]
     },
     "execution_count": 60,
     "metadata": {},
     "output_type": "execute_result"
    }
   ],
   "source": [
    "# Code here to drop rows with missing values for 'Release Clause'\n",
    "df['Release Clause']"
   ]
  },
  {
   "cell_type": "code",
   "execution_count": 101,
   "metadata": {},
   "outputs": [
    {
     "name": "stdout",
     "output_type": "stream",
     "text": [
      "           ID                Name  Age  \\\n",
      "0      158023            L. Messi   31   \n",
      "1       20801   Cristiano Ronaldo   33   \n",
      "2      190871           Neymar Jr   26   \n",
      "3      193080              De Gea   27   \n",
      "4      192985        K. De Bruyne   27   \n",
      "...       ...                 ...  ...   \n",
      "18202  238813        J. Lundstram   19   \n",
      "18203  243165  N. Christoffersson   19   \n",
      "18204  241638           B. Worman   16   \n",
      "18205  246268      D. Walker-Rice   17   \n",
      "18206  246269           G. Nugent   16   \n",
      "\n",
      "                                                Photo Nationality  \\\n",
      "0      https://cdn.sofifa.org/players/4/19/158023.png   Argentina   \n",
      "1       https://cdn.sofifa.org/players/4/19/20801.png    Portugal   \n",
      "2      https://cdn.sofifa.org/players/4/19/190871.png      Brazil   \n",
      "3      https://cdn.sofifa.org/players/4/19/193080.png       Spain   \n",
      "4      https://cdn.sofifa.org/players/4/19/192985.png     Belgium   \n",
      "...                                               ...         ...   \n",
      "18202  https://cdn.sofifa.org/players/4/19/238813.png     England   \n",
      "18203  https://cdn.sofifa.org/players/4/19/243165.png      Sweden   \n",
      "18204  https://cdn.sofifa.org/players/4/19/241638.png     England   \n",
      "18205  https://cdn.sofifa.org/players/4/19/246268.png     England   \n",
      "18206  https://cdn.sofifa.org/players/4/19/246269.png     England   \n",
      "\n",
      "                                      Flag  Overall  Potential  \\\n",
      "0      https://cdn.sofifa.org/flags/52.png       94         94   \n",
      "1      https://cdn.sofifa.org/flags/38.png       94         94   \n",
      "2      https://cdn.sofifa.org/flags/54.png       92         93   \n",
      "3      https://cdn.sofifa.org/flags/45.png       91         93   \n",
      "4       https://cdn.sofifa.org/flags/7.png       91         92   \n",
      "...                                    ...      ...        ...   \n",
      "18202  https://cdn.sofifa.org/flags/14.png       47         65   \n",
      "18203  https://cdn.sofifa.org/flags/46.png       47         63   \n",
      "18204  https://cdn.sofifa.org/flags/14.png       47         67   \n",
      "18205  https://cdn.sofifa.org/flags/14.png       47         66   \n",
      "18206  https://cdn.sofifa.org/flags/14.png       46         66   \n",
      "\n",
      "                      Club                                       Club Logo  \\\n",
      "0             FC Barcelona    https://cdn.sofifa.org/teams/2/light/241.png   \n",
      "1                 Juventus     https://cdn.sofifa.org/teams/2/light/45.png   \n",
      "2      Paris Saint-Germain     https://cdn.sofifa.org/teams/2/light/73.png   \n",
      "3        Manchester United     https://cdn.sofifa.org/teams/2/light/11.png   \n",
      "4          Manchester City     https://cdn.sofifa.org/teams/2/light/10.png   \n",
      "...                    ...                                             ...   \n",
      "18202      Crewe Alexandra    https://cdn.sofifa.org/teams/2/light/121.png   \n",
      "18203       Trelleborgs FF    https://cdn.sofifa.org/teams/2/light/703.png   \n",
      "18204     Cambridge United   https://cdn.sofifa.org/teams/2/light/1944.png   \n",
      "18205      Tranmere Rovers  https://cdn.sofifa.org/teams/2/light/15048.png   \n",
      "18206      Tranmere Rovers  https://cdn.sofifa.org/teams/2/light/15048.png   \n",
      "\n",
      "       ... Composure Marking  StandingTackle SlidingTackle  GKDiving  \\\n",
      "0      ...      96.0    33.0            28.0          26.0       6.0   \n",
      "1      ...      95.0    28.0            31.0          23.0       7.0   \n",
      "2      ...      94.0    27.0            24.0          33.0       9.0   \n",
      "3      ...      68.0    15.0            21.0          13.0      90.0   \n",
      "4      ...      88.0    68.0            58.0          51.0      15.0   \n",
      "...    ...       ...     ...             ...           ...       ...   \n",
      "18202  ...      45.0    40.0            48.0          47.0      10.0   \n",
      "18203  ...      42.0    22.0            15.0          19.0      10.0   \n",
      "18204  ...      41.0    32.0            13.0          11.0       6.0   \n",
      "18205  ...      46.0    20.0            25.0          27.0      14.0   \n",
      "18206  ...      43.0    40.0            43.0          50.0      10.0   \n",
      "\n",
      "       GKHandling  GKKicking GKPositioning GKReflexes Release Clause  \n",
      "0            11.0       15.0          14.0        8.0       226500.0  \n",
      "1            11.0       15.0          14.0       11.0       127100.0  \n",
      "2             9.0       15.0          15.0       11.0       228100.0  \n",
      "3            85.0       87.0          88.0       94.0       138600.0  \n",
      "4            13.0        5.0          10.0       13.0       196400.0  \n",
      "...           ...        ...           ...        ...            ...  \n",
      "18202        13.0        7.0           8.0        9.0       143000.0  \n",
      "18203         9.0        9.0           5.0       12.0       113000.0  \n",
      "18204         5.0       10.0           6.0       13.0       165000.0  \n",
      "18205         6.0       14.0           8.0        9.0       143000.0  \n",
      "18206        15.0        9.0          12.0        9.0       165000.0  \n",
      "\n",
      "[16643 rows x 88 columns]\n"
     ]
    }
   ],
   "source": [
    "#df['Release Clause'].dropna()\n",
    "\n",
    "missing_value = float(\"NaN\")\n",
    "df.replace(\"\", missing_value, inplace=True)\n",
    "df.dropna(subset = ['Release Clause'], inplace=True)\n",
    "print(df)"
   ]
  },
  {
   "cell_type": "code",
   "execution_count": 102,
   "metadata": {},
   "outputs": [
    {
     "data": {
      "text/plain": [
       "(16643, 88)"
      ]
     },
     "execution_count": 102,
     "metadata": {},
     "output_type": "execute_result"
    }
   ],
   "source": [
    "# Code here to check how many rows are left \n",
    "df.shape"
   ]
  },
  {
   "cell_type": "markdown",
   "metadata": {},
   "source": [
    "### 1.3) Convert the `'Release Clause'` Price from Euros to Dollars\n",
    "\n",
    "Now that there are no missing values, we can change the values in the `'Release Clause'` column from Euro to Dollar amounts.\n",
    "\n",
    "Assume the current exchange rate is `1 Euro = 1.2 Dollars`"
   ]
  },
  {
   "cell_type": "code",
   "execution_count": 111,
   "metadata": {},
   "outputs": [
    {
     "data": {
      "text/plain": [
       "<PandasArray>\n",
       "[226500.0, 127100.0, 228100.0, 138600.0, 196400.0, 172100.0, 137400.0,\n",
       " 164000.0, 104600.0, 144500.0,\n",
       " ...\n",
       "  88000.0, 165000.0, 175000.0, 143000.0, 153000.0, 143000.0, 113000.0,\n",
       " 165000.0, 143000.0, 165000.0]\n",
       "Length: 16643, dtype: float64"
      ]
     },
     "execution_count": 111,
     "metadata": {},
     "output_type": "execute_result"
    }
   ],
   "source": [
    "df['Release Clause'].array"
   ]
  },
  {
   "cell_type": "code",
   "execution_count": 110,
   "metadata": {},
   "outputs": [
    {
     "data": {
      "text/plain": [
       "0        271800.0\n",
       "1        152520.0\n",
       "2        273720.0\n",
       "3        166320.0\n",
       "4        235680.0\n",
       "           ...   \n",
       "18202    171600.0\n",
       "18203    135600.0\n",
       "18204    198000.0\n",
       "18205    171600.0\n",
       "18206    198000.0\n",
       "Name: Release Clause, Length: 16643, dtype: float64"
      ]
     },
     "execution_count": 110,
     "metadata": {},
     "output_type": "execute_result"
    }
   ],
   "source": [
    "# Code here to convert the column of euros to dollars\n",
    "df['Release Clause'].replace(df['Release Clause'].array, df['Release Clause'].array*1.2)"
   ]
  },
  {
   "cell_type": "markdown",
   "metadata": {},
   "source": [
    "---\n",
    "## Part 2: Data Visualization [Suggested Time: 20 minutes]\n",
    "---"
   ]
  },
  {
   "cell_type": "markdown",
   "metadata": {},
   "source": [
    "Continuing to use the same FIFA dataset, plot data using whichever plotting library you are most comfortable with."
   ]
  },
  {
   "cell_type": "code",
   "execution_count": 112,
   "metadata": {},
   "outputs": [],
   "source": [
    "# Run this cell without changes\n",
    "\n",
    "import matplotlib.pyplot as plt\n",
    "import seaborn as sns\n",
    "%matplotlib inline"
   ]
  },
  {
   "cell_type": "markdown",
   "metadata": {},
   "source": [
    "### 2.1) Find the top 10 countries with the most players (using the `'Nationality'` column). Create a bar chart showing the number of players from those 10 countries.\n",
    "\n",
    "Don't forget to add a **title** and **x axis label** to your charts.\n",
    "\n",
    "If you are unable to find the top 10 countries but want the chance to demonstrate your plotting skills use the following dummy data to create a bar chart: \n",
    "\n",
    "```\n",
    "Country Name  | Num Players\n",
    "============  | ===========\n",
    "Country A     | 100\n",
    "Country B     | 60\n",
    "Country C     | 125\n",
    "Country D     | 89\n",
    "```"
   ]
  },
  {
   "cell_type": "code",
   "execution_count": 134,
   "metadata": {
    "scrolled": true
   },
   "outputs": [
    {
     "data": {
      "text/plain": [
       "England      1475\n",
       "Germany      1151\n",
       "Spain         974\n",
       "France        853\n",
       "Argentina     833\n",
       "             ... \n",
       "Liberia         1\n",
       "Rwanda          1\n",
       "Guam            1\n",
       "Grenada         1\n",
       "Jordan          1\n",
       "Name: Nationality, Length: 161, dtype: int64"
      ]
     },
     "execution_count": 134,
     "metadata": {},
     "output_type": "execute_result"
    }
   ],
   "source": [
    "# Code here to get the top 10 countries with the most players\n",
    "most_players = df['Nationality'].value_counts()\n",
    "most_players"
   ]
  },
  {
   "cell_type": "code",
   "execution_count": 136,
   "metadata": {
    "scrolled": true
   },
   "outputs": [
    {
     "data": {
      "text/plain": [
       "England        1475\n",
       "Germany        1151\n",
       "Spain           974\n",
       "France          853\n",
       "Argentina       833\n",
       "Brazil          788\n",
       "Italy           579\n",
       "Colombia        570\n",
       "Japan           455\n",
       "Netherlands     426\n",
       "Name: Nationality, dtype: int64"
      ]
     },
     "execution_count": 136,
     "metadata": {},
     "output_type": "execute_result"
    }
   ],
   "source": [
    "most_players.head(10)"
   ]
  },
  {
   "cell_type": "code",
   "execution_count": 137,
   "metadata": {
    "scrolled": true
   },
   "outputs": [
    {
     "data": {
      "text/plain": [
       "England        1475\n",
       "Germany        1151\n",
       "Spain           974\n",
       "France          853\n",
       "Argentina       833\n",
       "Brazil          788\n",
       "Italy           579\n",
       "Colombia        570\n",
       "Japan           455\n",
       "Netherlands     426\n",
       "Name: Nationality, dtype: int64"
      ]
     },
     "execution_count": 137,
     "metadata": {},
     "output_type": "execute_result"
    }
   ],
   "source": [
    "top_ten_most_players = most_players.head(10)\n",
    "top_ten_most_players"
   ]
  },
  {
   "cell_type": "code",
   "execution_count": 139,
   "metadata": {},
   "outputs": [
    {
     "data": {
      "text/plain": [
       "Index(['England', 'Germany', 'Spain', 'France', 'Argentina', 'Brazil', 'Italy',\n",
       "       'Colombia', 'Japan', 'Netherlands'],\n",
       "      dtype='object')"
      ]
     },
     "execution_count": 139,
     "metadata": {},
     "output_type": "execute_result"
    }
   ],
   "source": [
    "top_ten_most_players.index"
   ]
  },
  {
   "cell_type": "code",
   "execution_count": 166,
   "metadata": {},
   "outputs": [
    {
     "data": {
      "image/png": "[encoded data removed]",
      "text/plain": [
       "<Figure size 720x432 with 1 Axes>"
      ]
     },
     "metadata": {
      "needs_background": "light"
     },
     "output_type": "display_data"
    }
   ],
   "source": [
    "# Code here to plot a bar chart.  A recommended figsize is (10, 6)\n",
    "\n",
    "x = top_ten_most_players.index\n",
    "y = top_ten_most_players\n",
    "\n",
    "plt.figure(figsize=(10,6))\n",
    " \n",
    "# Create bars\n",
    "plt.bar(x,y, color = 'lightgreen')\n",
    " \n",
    "# Create names on the x-axis\n",
    "plt.xticks(x)\n",
    "plt.title('Top 10 Countries with Most Players')\n",
    " \n",
    "# Show graphic\n",
    "plt.show()\n"
   ]
  },
  {
   "cell_type": "markdown",
   "metadata": {},
   "source": [
    "### 2.2) Describe the relationship between `StandingTackle` and `SlidingTackle`, as shown in the scatter plot produced below."
   ]
  },
  {
   "cell_type": "code",
   "execution_count": 156,
   "metadata": {},
   "outputs": [
    {
     "data": {
      "text/plain": [
       "<matplotlib.collections.PathCollection at 0x129635b90>"
      ]
     },
     "execution_count": 156,
     "metadata": {},
     "output_type": "execute_result"
    },
    {
     "data": {
      "image/png": "[encoded data removed]",
      "text/plain": [
       "<Figure size 432x288 with 1 Axes>"
      ]
     },
     "metadata": {
      "needs_background": "light"
     },
     "output_type": "display_data"
    }
   ],
   "source": [
    "# Run this cell without changes\n",
    "\n",
    "fig, ax = plt.subplots()\n",
    "\n",
    "ax.set_title('Standing Tackle vs. Sliding Tackle')\n",
    "ax.set_xlabel('Standing Tackle')\n",
    "ax.set_ylabel('Sliding Tackle')\n",
    "\n",
    "x = df['StandingTackle']\n",
    "y = df['SlidingTackle']\n",
    "\n",
    "ax.scatter(x, y)"
   ]
  },
  {
   "cell_type": "markdown",
   "metadata": {},
   "source": [
    "Please describe in words the relationship between these two features."
   ]
  },
  {
   "cell_type": "code",
   "execution_count": 175,
   "metadata": {},
   "outputs": [
    {
     "data": {
      "text/plain": [
       "'With an increase of standing tackles, there is an increase of sliding tackles.'"
      ]
     },
     "execution_count": 175,
     "metadata": {},
     "output_type": "execute_result"
    }
   ],
   "source": [
    "# Your written answer here\n",
    "'With an increase of standing tackles, there is an increase of sliding tackles.'"
   ]
  },
  {
   "cell_type": "markdown",
   "metadata": {},
   "source": [
    "---\n",
    "## Part 3: Exploring Statistical Data [Suggested Time: 20 minutes]\n",
    "---"
   ]
  },
  {
   "cell_type": "markdown",
   "metadata": {},
   "source": [
    "### 3.1) What are the mean age and the median age for the players in this dataset?"
   ]
  },
  {
   "cell_type": "code",
   "execution_count": 176,
   "metadata": {
    "scrolled": true
   },
   "outputs": [
    {
     "data": {
      "text/plain": [
       "25.226221234152497"
      ]
     },
     "execution_count": 176,
     "metadata": {},
     "output_type": "execute_result"
    }
   ],
   "source": [
    "# Code here to find the mean age and median age\n",
    "df['Age'].mean()"
   ]
  },
  {
   "cell_type": "code",
   "execution_count": 177,
   "metadata": {},
   "outputs": [
    {
     "data": {
      "text/plain": [
       "25.0"
      ]
     },
     "execution_count": 177,
     "metadata": {},
     "output_type": "execute_result"
    }
   ],
   "source": [
    "df['Age'].median()"
   ]
  },
  {
   "cell_type": "markdown",
   "metadata": {},
   "source": [
    "In your own words, how are the mean and median related to each other and what do these values tell us about the distribution of the column `'Age'`? "
   ]
  },
  {
   "cell_type": "code",
   "execution_count": 178,
   "metadata": {},
   "outputs": [
    {
     "data": {
      "text/plain": [
       "'The mean is the average value and the median is the middle value.'"
      ]
     },
     "execution_count": 178,
     "metadata": {},
     "output_type": "execute_result"
    }
   ],
   "source": [
    "# Your written answer here\n",
    "'The mean is the average value and the median is the middle value.'"
   ]
  },
  {
   "cell_type": "markdown",
   "metadata": {},
   "source": [
    "### 3.2) Who is the oldest player from Argentina and how old is he?\n",
    "Use the `Nationality` column."
   ]
  },
  {
   "cell_type": "code",
   "execution_count": 172,
   "metadata": {},
   "outputs": [
    {
     "data": {
      "text/plain": [
       "0        Argentina\n",
       "1         Portugal\n",
       "2           Brazil\n",
       "3            Spain\n",
       "4          Belgium\n",
       "           ...    \n",
       "18202      England\n",
       "18203       Sweden\n",
       "18204      England\n",
       "18205      England\n",
       "18206      England\n",
       "Name: Nationality, Length: 16643, dtype: object"
      ]
     },
     "execution_count": 172,
     "metadata": {},
     "output_type": "execute_result"
    }
   ],
   "source": [
    "# Code here to find the oldest player in Argentina\n",
    "df['Nationality']"
   ]
  },
  {
   "cell_type": "code",
   "execution_count": null,
   "metadata": {},
   "outputs": [],
   "source": [
    "# Your written answer here"
   ]
  },
  {
   "cell_type": "markdown",
   "metadata": {},
   "source": [
    "---\n",
    "## Part 4: Python Data Structures [Suggested Time: 20 min]\n",
    "---"
   ]
  },
  {
   "cell_type": "markdown",
   "metadata": {},
   "source": [
    "In this final section, we will work with various Python data types and try to accomplish certain tasks using some fundamental data structures in Python, rather than using Pandas DataFrames. Below, we've defined a dictionary with soccer player names as keys for nested dictionaries containing information about each player's age, nationality, and a list of teams they have played for."
   ]
  },
  {
   "cell_type": "code",
   "execution_count": 13,
   "metadata": {},
   "outputs": [],
   "source": [
    "# Run this cell without changes\n",
    "\n",
    "players = {\n",
    "    'L. Messi': {\n",
    "        'age': 31,\n",
    "        'nationality': 'Argentina',\n",
    "        'teams': ['Barcelona']\n",
    "    },\n",
    "    'Cristiano Ronaldo': {\n",
    "        'age': 33,\n",
    "        'nationality': 'Portugal',\n",
    "        'teams': ['Juventus', 'Real Madrid', 'Manchester United']\n",
    "    },\n",
    "    'Neymar Jr': {\n",
    "        'age': 26,\n",
    "        'nationality': 'Brazil',\n",
    "        'teams': ['Santos', 'Barcelona', 'Paris Saint-German']\n",
    "    },\n",
    "    'De Gea': {\n",
    "        'age': 27,\n",
    "        'nationality': 'Spain',\n",
    "        'teams': ['Atletico Madrid', 'Manchester United']\n",
    "    },\n",
    "    'K. De Bruyne': {\n",
    "        'age': 27,\n",
    "        'nationality': 'Belgium',\n",
    "        'teams': ['Chelsea', 'Manchester City']\n",
    "    }\n",
    "}"
   ]
  },
  {
   "cell_type": "markdown",
   "metadata": {},
   "source": [
    "### 4.1) Create a `list` of all the keys in the `players` dictionary. Store the list of player names in a variable called `player_names` to use in the next question.\n",
    "\n",
    "Use [Python's documentation on dictionaries](https://docs.python.org/3/tutorial/datastructures.html#dictionaries) for help if needed. "
   ]
  },
  {
   "cell_type": "code",
   "execution_count": 46,
   "metadata": {
    "scrolled": true
   },
   "outputs": [
    {
     "data": {
      "text/plain": [
       "['L. Messi', 'Cristiano Ronaldo', 'Neymar Jr', 'De Gea', 'K. De Bruyne']"
      ]
     },
     "execution_count": 46,
     "metadata": {},
     "output_type": "execute_result"
    }
   ],
   "source": [
    "player_names = list(players.keys())\n",
    "player_names"
   ]
  },
  {
   "cell_type": "code",
   "execution_count": 30,
   "metadata": {},
   "outputs": [
    {
     "data": {
      "text/plain": [
       "dict_values([{'age': 31, 'nationality': 'Argentina', 'teams': ['Barcelona']}, {'age': 33, 'nationality': 'Portugal', 'teams': ['Juventus', 'Real Madrid', 'Manchester United']}, {'age': 26, 'nationality': 'Brazil', 'teams': ['Santos', 'Barcelona', 'Paris Saint-German']}, {'age': 27, 'nationality': 'Spain', 'teams': ['Atletico Madrid', 'Manchester United']}, {'age': 27, 'nationality': 'Belgium', 'teams': ['Chelsea', 'Manchester City']}])"
      ]
     },
     "execution_count": 30,
     "metadata": {},
     "output_type": "execute_result"
    }
   ],
   "source": [
    "players.values()"
   ]
  },
  {
   "cell_type": "code",
   "execution_count": null,
   "metadata": {},
   "outputs": [],
   "source": [
    "# Replace None with appropriate code to get the list of all player names\n",
    "\n",
    "player_names = None"
   ]
  },
  {
   "cell_type": "code",
   "execution_count": null,
   "metadata": {},
   "outputs": [],
   "source": [
    "# Run this cell without changes to check your answer\n",
    "\n",
    "print(player_names)"
   ]
  },
  {
   "cell_type": "markdown",
   "metadata": {},
   "source": [
    "### 4.2) Great! Now that we have the names of all players, let's use that information to create a `list` of `tuples` containing each player's name along with their nationality. Store the list in a variable called `player_nationalities`."
   ]
  },
  {
   "cell_type": "code",
   "execution_count": null,
   "metadata": {},
   "outputs": [],
   "source": [
    "# Replace None with appropriate code to generate list of tuples such that \n",
    "# the first element is a players name and the second is their nationality \n",
    "# Ex: [('L. Messi', 'Argentina'), ('Christiano Ronaldo', 'Portugal'), ...]\n",
    "\n",
    "player_nationalities = None"
   ]
  },
  {
   "cell_type": "code",
   "execution_count": null,
   "metadata": {},
   "outputs": [],
   "source": [
    "# Run this cell without changes to check your answer\n",
    "\n",
    "print(player_nationalities)"
   ]
  },
  {
   "cell_type": "markdown",
   "metadata": {},
   "source": [
    "### 4.3) Define a function called `get_players_on_team()` that returns a `list` of the names of all the players who have played on a given team.\n",
    "\n",
    "Your function should take two arguments: \n",
    "\n",
    "- a dictionary of player information\n",
    "- the team name (as a `string`) you are trying to find the players for \n",
    "\n",
    "**Be sure that your function has a `return` statement.**"
   ]
  },
  {
   "cell_type": "code",
   "execution_count": null,
   "metadata": {},
   "outputs": [],
   "source": [
    "# Code here to define your get_players_on_team() function \n",
    "def get_players_on_team():"
   ]
  },
  {
   "cell_type": "code",
   "execution_count": null,
   "metadata": {},
   "outputs": [],
   "source": [
    "# Run this cell without changes to check your answer\n",
    "\n",
    "players_on_manchester_united = get_players_on_team(players, 'Manchester United')\n",
    "print(players_on_manchester_united)"
   ]
  },
  {
   "cell_type": "code",
   "execution_count": null,
   "metadata": {},
   "outputs": [],
   "source": []
  }
 ],
 "metadata": {
  "kernelspec": {
   "display_name": "Python 3",
   "language": "python",
   "name": "python3"
  },
  "language_info": {
   "codemirror_mode": {
    "name": "ipython",
    "version": 3
   },
   "file_extension": ".py",
   "mimetype": "text/x-python",
   "name": "python",
   "nbconvert_exporter": "python",
   "pygments_lexer": "ipython3",
   "version": "3.7.4"
  }
 },
 "nbformat": 4,
 "nbformat_minor": 4
}
